{
  "cells": [
    {
      "cell_type": "markdown",
      "metadata": {
        "colab_type": "text",
        "id": "view-in-github"
      },
      "source": [
        "<a href=\"https://colab.research.google.com/github/jul-upc/Lab_0_python_basics.ipynb\" target=\"_parent\"><img src=\"https://colab.research.google.com/assets/colab-badge.svg\" alt=\"Open In Colab\"/></a>"
      ]
    },
    {
      "cell_type": "markdown",
      "metadata": {
        "id": "AAl10vo35lki"
      },
      "source": [
        "# Python introduction exercises\n",
        "\n",
        "Based on: \\\\\n",
        "Beginning Matlab Exercises \\\\\n",
        "R. J. Braun \\\\\n",
        "Department of Mathematical Sciences \\\\\n",
        "University of Delaware\n",
        "\n",
        "When installed on the system, Python can be used as:\n",
        "- A calculator, by using the terminal\n",
        "- An scripting language, by executing .py files \n",
        "- A notebook (like in this the case), which as interactive way of execute code sections and can be mixed with text\n",
        "\n",
        "The labs however are going to make use google colab, which is a notebook-type interpreter for python running on a remote server and accessible for free through internet.\n",
        "\n"
      ]
    },
    {
      "cell_type": "markdown",
      "metadata": {
        "id": "si1rptgr5kLz"
      },
      "source": [
        "## Working with scalars\n",
        "\n",
        "Scalars and basic math operations. Use the notebook as a calculator to find the value of each of the next proposed math equations.\n",
        "\n",
        "Precedence of arithmetic operations is: (1) parentheses, (2) exponentiation, (3) multiplication and division, and (4) addition and subtraction. Calculations proceed from left to right on the line and equal precedence is settled in this way"
      ]
    },
    {
      "cell_type": "markdown",
      "metadata": {
        "id": "g8fDc2J770xK"
      },
      "source": [
        "📑  $3*2^4$"
      ]
    },
    {
      "cell_type": "code",
      "execution_count": null,
      "metadata": {
        "id": "JYrrxgtB70gl"
      },
      "outputs": [],
      "source": []
    },
    {
      "cell_type": "markdown",
      "metadata": {
        "id": "vqtkZlcI8lEb"
      },
      "source": [
        "📑 $(3*2)^4$  Parentheses have highest priority"
      ]
    },
    {
      "cell_type": "code",
      "execution_count": null,
      "metadata": {
        "id": "Ci1ebWvo8kwC"
      },
      "outputs": [],
      "source": []
    },
    {
      "cell_type": "markdown",
      "metadata": {
        "id": "Mn9r-fn38knM"
      },
      "source": [
        "📑 $3-2^4$"
      ]
    },
    {
      "cell_type": "code",
      "execution_count": null,
      "metadata": {
        "id": "ptdKDNdm8kgL"
      },
      "outputs": [],
      "source": []
    },
    {
      "cell_type": "markdown",
      "metadata": {
        "id": "7QmNVtq-8kaZ"
      },
      "source": [
        "📑 $3^4-3$"
      ]
    },
    {
      "cell_type": "code",
      "execution_count": null,
      "metadata": {
        "id": "kOLX9x6K8kS0"
      },
      "outputs": [],
      "source": []
    },
    {
      "cell_type": "markdown",
      "metadata": {
        "id": "QixB_Mps8kKh"
      },
      "source": [
        "📑 $8/2^4$"
      ]
    },
    {
      "cell_type": "code",
      "execution_count": null,
      "metadata": {
        "id": "q3rVknjG8kEX"
      },
      "outputs": [],
      "source": []
    },
    {
      "cell_type": "markdown",
      "metadata": {
        "id": "iFMKVV6v8j9T"
      },
      "source": [
        "📑 $8^4/2$"
      ]
    },
    {
      "cell_type": "code",
      "execution_count": null,
      "metadata": {
        "id": "NF6GqIMD8j0V"
      },
      "outputs": [],
      "source": []
    },
    {
      "cell_type": "markdown",
      "metadata": {
        "id": "tCXnYPqt8jtv"
      },
      "source": [
        "\n",
        "\n",
        "---\n",
        "\n",
        "\n",
        "##Starting with Vectors:\n",
        "\n",
        "The most strightforward thing to do to recreate vectors in python is to use the list type. Lists are ordered and mutable array of variables. \n",
        "\n",
        "\n",
        "**To construct a list** type\n",
        "```\n",
        "x = [x_1 x_2 x_3 ... x_n]\n",
        "```\n",
        "\n",
        "However, lists are mean to be used with any kind of data type, e.g., scalars, strings, booleans, tuples... etc and even other lists, lists of lists... and so on. Given its generality **its performance is usually poor**. And hence are not very meant to be used to mathematical calculations. Nevertheless, we can still need them in some occassions, so let's practice the basics.\n",
        "\n"
      ]
    },
    {
      "cell_type": "markdown",
      "metadata": {
        "id": "iLl9-PZX_FFF"
      },
      "source": [
        "📑 Create a list with the elements 1, 2, 3, 4, 5"
      ]
    },
    {
      "cell_type": "code",
      "execution_count": null,
      "metadata": {
        "id": "eUoeJiaK8jnL"
      },
      "outputs": [],
      "source": [
        "x= [1, 2, 3, 4, 5]\n",
        "print(x)"
      ]
    },
    {
      "cell_type": "markdown",
      "metadata": {
        "id": "CBLmlBCq8jf6"
      },
      "source": [
        "There are other ways to create a list, e.g.,\n",
        "\n",
        "\n",
        "```\n",
        "list(range(a,b,c))\n",
        "```\n",
        "generates a list that starts in a and end before b with increments of c.\n"
      ]
    },
    {
      "cell_type": "markdown",
      "metadata": {
        "id": "lKwGny3RBy08"
      },
      "source": [
        "📑 Use the range function to generate a list **x** that starts by 0 and ends in 50(included) with increments of 2"
      ]
    },
    {
      "cell_type": "code",
      "execution_count": null,
      "metadata": {
        "id": "RHby1puj8jaK"
      },
      "outputs": [],
      "source": []
    },
    {
      "cell_type": "markdown",
      "metadata": {
        "id": "6frsTUzv8jT2"
      },
      "source": [
        "📑 Use the command len() to verify the length of the past list"
      ]
    },
    {
      "cell_type": "code",
      "execution_count": null,
      "metadata": {
        "id": "URmfvJxT8jMu"
      },
      "outputs": [],
      "source": []
    },
    {
      "cell_type": "markdown",
      "metadata": {
        "id": "0PIWHrKK8jGW"
      },
      "source": [
        "To acces to elements of a list use square braquets, e.g., x[3]. Remember that in python indexing starts at 0."
      ]
    },
    {
      "cell_type": "markdown",
      "metadata": {
        "id": "nuslJi3TypYe"
      },
      "source": [
        "📑 Acces to the last element of list x"
      ]
    },
    {
      "cell_type": "code",
      "execution_count": null,
      "metadata": {
        "id": "KvH-bZqL8i_4"
      },
      "outputs": [],
      "source": []
    },
    {
      "cell_type": "markdown",
      "metadata": {
        "id": "kaKl10Ax8i4D"
      },
      "source": [
        "**Negative indexing.** Lists can be accessed by the end using negative indexing. e.g. the final value of the list x can be retrieved by typing x[-1]"
      ]
    },
    {
      "cell_type": "markdown",
      "metadata": {
        "id": "YGwkGwNO8is5"
      },
      "source": [
        "📑 Acces to the first element of list x, using negative indexing"
      ]
    },
    {
      "cell_type": "code",
      "execution_count": null,
      "metadata": {
        "id": "s93yHc9U8iin"
      },
      "outputs": [],
      "source": []
    },
    {
      "cell_type": "markdown",
      "metadata": {
        "id": "aOFtekt68icH"
      },
      "source": [
        "**Slicing:** A part of a list can be retrieved by defining a range of indexes\n",
        "\n",
        "\n",
        "*   x[a:b] will take all the elements starting at the index a and ending before b\n",
        "\n",
        "*   x[a:b:c] will take all the elements starting at the index a and ending before b with steps of c\n",
        "\n",
        "*   x[:b] will take all the elements preceding the b position\n",
        "\n",
        "*   x[a:] will take the elements in the position a and after it\n"
      ]
    },
    {
      "cell_type": "markdown",
      "metadata": {
        "id": "tOpwXyIY04FQ"
      },
      "source": [
        "📑 Verify the output of x[0:3]"
      ]
    },
    {
      "cell_type": "code",
      "execution_count": null,
      "metadata": {
        "id": "7lzZ-T9r8iVt"
      },
      "outputs": [],
      "source": []
    },
    {
      "cell_type": "markdown",
      "metadata": {
        "id": "sGUDYlod8iPx"
      },
      "source": [
        "📑 Which command you should run to obtain all all the odd elements of x after 25?"
      ]
    },
    {
      "cell_type": "code",
      "execution_count": null,
      "metadata": {
        "id": "RIdLut7_8iIS"
      },
      "outputs": [],
      "source": []
    },
    {
      "cell_type": "markdown",
      "metadata": {
        "id": "K79LCw4o8iCc"
      },
      "source": [
        "There are to many more to talk about lists, in case you needed next you will find some of the most used methods\n",
        "\n",
        "- index()\tReturns the index of the first element with the specified value\n",
        "- append()\tAdds an element at the end of the list\n",
        "- insert()\tAdds an element at the specified position\n",
        "- pop()\tRemoves the element at the specified position\n",
        "- remove()\tRemoves the item with the specified value\n",
        "- count()\tReturns the number of elements with the specified value\n",
        "- sort()\tSorts the list\n",
        "- reverse()\tReverses the order of the list\n",
        "- extend()\tAdd the elements of a list (or any iterable), to the end of the current list\n",
        "- copy()\tReturns a copy of the list\n",
        "- clear()\tRemoves all the elements from the list\n",
        "\n",
        "For any two lists named x & y, those methods can be called by x.append(y)\n"
      ]
    },
    {
      "cell_type": "markdown",
      "metadata": {
        "id": "wW8jbaIyCEj6"
      },
      "source": [
        "## Vectors the good way\n",
        "\n",
        "The module numpy offer a proper implementation of the object array which can be used as vector, 2d matrix, or more generally n-d matrices\n",
        "\n",
        "To include the module use:\n",
        "\n",
        "```\n",
        "import numpy as np\n",
        "```\n",
        "This only neet to be done only once, so I will make it for you on the next code cell, however do not forget to include it by yourself at least once, and if possible (good practice) at the beginning of the code/notebook\n",
        "\n",
        "\n",
        "\n",
        "\n",
        "\n"
      ]
    },
    {
      "cell_type": "code",
      "execution_count": null,
      "metadata": {
        "id": "nuyW79SjMMhR"
      },
      "outputs": [],
      "source": [
        "import numpy as np"
      ]
    },
    {
      "cell_type": "markdown",
      "metadata": {
        "id": "eGH3qzujMNFY"
      },
      "source": [
        "\n",
        "To create an array from a list x use:\n",
        "\n",
        "```\n",
        "a = np.array(x)\n",
        "```\n",
        "\n"
      ]
    },
    {
      "cell_type": "markdown",
      "metadata": {
        "id": "oBl70yDPKah1"
      },
      "source": [
        "📑 Create a list x froma  list of the past executed cell. And remember to `import numpy as np`"
      ]
    },
    {
      "cell_type": "markdown",
      "metadata": {
        "id": "qtcAjq1oFVsb"
      },
      "source": [
        "## Define vectors as (column) vectors\n",
        "\n",
        "A 1 dimensional array has only one dimension by default. This is a caveat when we want to use them as vectors. Observe what happens in the next calculations"
      ]
    },
    {
      "cell_type": "code",
      "execution_count": null,
      "metadata": {
        "id": "2Kmc3i8D8h7L"
      },
      "outputs": [],
      "source": [
        "A = np.random.rand(2,4)\n",
        "print(\"A=\", A)\n",
        "\n",
        "x = np.array([1,2,3,4])\n",
        "print(\"x=\", x)\n",
        "\n",
        "print(\"x.transpose()=\",x.transpose() )\n",
        "\n",
        "print(\"A*x=\", A*x)\n",
        "print(\"x*A.T=\", x*A.T)\n"
      ]
    },
    {
      "cell_type": "markdown",
      "metadata": {
        "id": "IOzKS5pX8h0O"
      },
      "source": [
        "In order to interpret an array as a vector either we define it as a column vector or explicitly we said that is a rowvector with the possiblity of being a column vector:"
      ]
    },
    {
      "cell_type": "code",
      "execution_count": null,
      "metadata": {
        "id": "4c-W3i4e8hs_"
      },
      "outputs": [],
      "source": [
        "x = np.array([[1], [2], [3], [4]])\n",
        "print(\"x =\", x, \"\\r\")\n",
        "\n",
        "y = np.atleast_2d([1,2,3,4])\n",
        "print(\"y =\", y, \"\\r\")\n",
        "print(\"y.T =\", y.T, \"\\r\")\n",
        "\n",
        "z = np.array([1,2,3,4],ndmin=2)\n",
        "print(\"z.T=\",z.T)"
      ]
    },
    {
      "cell_type": "markdown",
      "metadata": {
        "id": "4AXkbzimO5ep"
      },
      "source": []
    },
    {
      "cell_type": "markdown",
      "metadata": {
        "id": "J8jKuqsv8hX2"
      },
      "source": [
        "**Slicing, and Indexing works the same** than it has been shown for lists.\n",
        "\n",
        "📑 Create to vectors x& y, with 5 components and try to calculate the products:\n",
        "\n",
        "*   x.T*y\n",
        "*   y.T*x\n",
        "*   y*x\n",
        "*   x*y\n",
        "\n",
        "\n",
        "\n"
      ]
    },
    {
      "cell_type": "code",
      "execution_count": null,
      "metadata": {
        "id": "0nmBKTEM8hDJ"
      },
      "outputs": [],
      "source": []
    },
    {
      "cell_type": "markdown",
      "metadata": {
        "id": "BJKltrwS8grz"
      },
      "source": [
        "## Defining matrices\n",
        "\n",
        "A matrix can be defined just by the concatenation of row lists.\n",
        "\n",
        "arr = np.array([[1, 2, 3, 4, 5], [6, 7, 8, 9, 10]])\n",
        "\n",
        "Size of matrices can be obtained by using the method shape, i.e. `arr.shape` will return (2,5)"
      ]
    },
    {
      "cell_type": "markdown",
      "metadata": {
        "id": "3dcg93y4Pk5I"
      },
      "source": [
        "📑 Find the number of rows and columns of the array arr, and extract the row and column position of the number 9\n"
      ]
    },
    {
      "cell_type": "code",
      "execution_count": null,
      "metadata": {
        "id": "JktFuCTL4-AR"
      },
      "outputs": [],
      "source": [
        "arr = np.array([[1, 2, 3, 4, 5], [6, 7, 8, 9, 10]])\n"
      ]
    },
    {
      "cell_type": "code",
      "execution_count": null,
      "metadata": {
        "id": "KzLWA73D42Eo"
      },
      "outputs": [],
      "source": []
    },
    {
      "cell_type": "markdown",
      "metadata": {
        "id": "kR_jg4PP48Qv"
      },
      "source": [
        "There Exist predefined methods to create matrices that appear very often. \n",
        "Visit [numpy array creation](https://numpy.org/doc/stable/reference/routines.array-creation.html) and...\n",
        "\n",
        "\n",
        "\n"
      ]
    },
    {
      "cell_type": "markdown",
      "metadata": {
        "id": "wFDwjlKzR6-_"
      },
      "source": [
        "📑 Create the identity matrix of dimension 5. (5x5 Matrix with ones on the diagonal)"
      ]
    },
    {
      "cell_type": "code",
      "execution_count": null,
      "metadata": {
        "id": "3SIhE2sNSIio"
      },
      "outputs": [],
      "source": []
    },
    {
      "cell_type": "markdown",
      "metadata": {
        "id": "3Fc7oxrnR60P"
      },
      "source": [
        "📑 Create a rectangular (15x7) matrix with -2's in the diagonal\n",
        "\n"
      ]
    },
    {
      "cell_type": "code",
      "execution_count": null,
      "metadata": {
        "id": "0YeQwYW1SkcH"
      },
      "outputs": [],
      "source": []
    },
    {
      "cell_type": "markdown",
      "metadata": {
        "id": "IoalCl7bcjCY"
      },
      "source": [
        "📑 Create vector with 17 evenly distributed points starting at 0.25  and ending at 47.3\n"
      ]
    },
    {
      "cell_type": "code",
      "execution_count": null,
      "metadata": {
        "id": "3wU9CMrpcw7W"
      },
      "outputs": [],
      "source": [
        "\n"
      ]
    },
    {
      "cell_type": "markdown",
      "metadata": {
        "id": "IZgj5xOjSlrh"
      },
      "source": [
        "## Multiplying matrices (and matrices and vectors)\n",
        "\n",
        "As seen befor the operator '*' is not used to express the multiplication of arrays. Instead the function matmul() or the operator @ should be used. \n",
        "\n",
        "\n",
        "\n",
        "\n"
      ]
    },
    {
      "cell_type": "code",
      "execution_count": null,
      "metadata": {
        "id": "BLpMSrtkSkSS"
      },
      "outputs": [],
      "source": [
        "A = np.array([[1, 2], [3, 4] ])\n",
        "B = np.random.rand(2,4)\n",
        "C = np.random.rand(4,8)\n",
        "\n",
        "print(\"A=\")\n",
        "print(A,\"\\n\")\n",
        "print(\"B=\")\n",
        "print(B,\"\\n\")\n",
        "print(\"C=\")\n",
        "print(C,\"\\n\")\n",
        "\n",
        "\n",
        "print(\"A*A=\")\n",
        "print(A*A,\"\\n\")\n",
        "print(\"A@A=\")\n",
        "print(A@A,\"\\n\")\n",
        "\n",
        "print(\"A@B=\")\n",
        "print(A@B,\"\\n\")\n",
        "\n",
        "print(\"A@B@C=\")\n",
        "print(A@B@C,\"\\n\")"
      ]
    },
    {
      "cell_type": "markdown",
      "metadata": {
        "id": "gRvsLTIHSmGb"
      },
      "source": [
        "## Functions\n",
        "\n",
        "To define a function in python usse the reserved keyword def\n",
        "\n",
        "```\n",
        "def my_fcn(a,b,c):\n",
        "  # do whatever\n",
        "  return result\n",
        "```\n",
        "\n",
        "Python uses indentation as a mean to finish blocks and no aditional symbols to end a line.\n",
        "\n",
        "See the next example\n",
        "\n",
        "\n",
        "\n",
        "\n"
      ]
    },
    {
      "cell_type": "code",
      "execution_count": null,
      "metadata": {
        "id": "Tu_d14UAR6Qo"
      },
      "outputs": [],
      "source": [
        "def two_norm1(a):\n",
        "\n",
        "  sum = 0\n",
        "  for q in a:\n",
        "    sum+=q*q\n",
        "\n",
        "  return sum\n",
        "\n",
        "def two_norm2(a):\n",
        "\n",
        "  sum = 0\n",
        "  for q in range(len(a)):\n",
        "    sum+=a[q]*a[q]\n",
        "\n",
        "  return sum\n",
        "\n",
        "def two_norm3(a):\n",
        "  #This function calculate the length of a vector\n",
        "\n",
        "  return (a.T.dot(a)).flatten()\n",
        "\n",
        "x = np.random.rand(60,1)\n",
        "print(two_norm1(x))\n",
        "print(two_norm2(x))\n",
        "print(two_norm3(x))\n",
        "\n"
      ]
    },
    {
      "cell_type": "markdown",
      "metadata": {
        "id": "k0EAVfbAcI8h"
      },
      "source": [
        "📑 Create a function that given an array of numbers apply the function\n",
        "$ \\frac{1+x^2}{1+\\vert x\\vert}$ to each of its elements and apply it to a random vector of 57 elements"
      ]
    },
    {
      "cell_type": "code",
      "execution_count": null,
      "metadata": {
        "id": "l_MoeLUldzHy"
      },
      "outputs": [],
      "source": []
    },
    {
      "cell_type": "markdown",
      "metadata": {
        "id": "hNJdiJNAgWJA"
      },
      "source": [
        "## if-else statements\n",
        "\n",
        "\n",
        "Sometimes we want to compute one set of commands or another depending on the result of a relational test.\n",
        "\n",
        "There are several forms that this sort of construct can take.\n",
        "The simplest is:\n",
        "\n",
        "```\n",
        "if <expression>:\n",
        "    <commands evaluated if True>\n",
        "```\n",
        "\n",
        "\n",
        "An example follows; given a positive number of pens, a cost is computed and displayed.\n"
      ]
    },
    {
      "cell_type": "code",
      "execution_count": null,
      "metadata": {
        "id": "SKaBv0CxhE9Y"
      },
      "outputs": [],
      "source": [
        "pens = 8;\n",
        "\n",
        "if pens >= 0:\n",
        "    cost = pens*1.99\n",
        "    print(\"Cost of {p} pens is ${c}\".format(p=pens, c=cost))\n"
      ]
    },
    {
      "cell_type": "markdown",
      "metadata": {
        "id": "uwWnfBbAhIbd"
      },
      "source": [
        "Intermediate else expression\n",
        "\n",
        "```\n",
        "if <expression>:\n",
        "  <commands evaluated if True>\n",
        "else:\n",
        "    <commands evaluated if False>\n",
        "```\n",
        "\n",
        "The example now prints a warning for negative numbers of pens. Try to change the value associated to pens and see what happen\n"
      ]
    },
    {
      "cell_type": "code",
      "execution_count": null,
      "metadata": {
        "id": "TUhb3tJ0hr3K"
      },
      "outputs": [],
      "source": [
        "pens = -1;\n",
        "\n",
        "if pens >= 0:\n",
        "    cost = pens*1.99\n",
        "    print(\"Cost of {p} pens is ${c}\".format(p=pens, c=cost))\n",
        "else:\n",
        "    print('An invalid number of pens was specified.')\n"
      ]
    },
    {
      "cell_type": "markdown",
      "metadata": {
        "id": "dfiW9lOKhrbJ"
      },
      "source": [
        "\n",
        "\n",
        "The most general form is:\n",
        "\n",
        "\n",
        "```\n",
        "if <expression1>:\n",
        "        <commands evaluated if expression1 is True>\n",
        "elif <expression2>:\n",
        "        <commands evaluated if expression2 is True>\n",
        "elif <expression3>:\n",
        "        <commands evaluated if expression3 is True>\n",
        "elif <expression4>:\n",
        "        <commands evaluated if expression4 is True>\n",
        "else:\n",
        "        <commands evaluated if all other expressions are False>\n",
        "\n",
        "```\n",
        "\n",
        "\n",
        "\n",
        "We aren’t limited to 4 expressions here; we could add more. We could use this to price pens according to\n",
        "quantity, as follows.\n"
      ]
    },
    {
      "cell_type": "code",
      "execution_count": null,
      "metadata": {
        "id": "lpDX2my4iZpa"
      },
      "outputs": [],
      "source": [
        "sale = False\n",
        "pens = 0\n",
        "\n",
        "if pens == 0:\n",
        "  sale = False\n",
        "\n",
        "elif pens > 0 and pens < 20:\n",
        "    cost = pens\n",
        "    sale = True\n",
        "\n",
        "elif pens >= 20 and pens < 40:\n",
        "    cost = pens*0.95\n",
        "    sale = True\n",
        "\n",
        "elif pens >= 40 and pens <= 100:\n",
        "    cost = pens*0.90;\n",
        "    sale = True;\n",
        "else:\n",
        "    print('not a valid number of pens')\n",
        "\n",
        "if sale:\n",
        "    print(\"Cost of {p} pens is ${c}\".format(p=pens, c=cost))\n"
      ]
    },
    {
      "cell_type": "markdown",
      "metadata": {
        "id": "_-e6G7XqjW5U"
      },
      "source": []
    },
    {
      "cell_type": "markdown",
      "metadata": {
        "id": "fpfgsqEUdzq2"
      },
      "source": [
        "## For loop\n",
        "\n",
        "The for loop in python is used to visit all the ordered entries from an iterable. Some basic data types are iterable, like list or tuples.\n",
        "\n",
        "The usual loop is represented by a nested block declared be a header\n",
        "\n",
        "```\n",
        "for q in iter:\n",
        "  # do whatever \n",
        "```\n",
        "\n",
        "For loops can incorporate the reserved words:\n",
        "\n",
        "\n",
        "*   break: to end the iteration\n",
        "*   pass: to avoid the actual iteration and go to the next one\n",
        "\n",
        "The use of else is optional to execute a sentence after going out of the loop.\n",
        "\n",
        "\n",
        "```\n",
        "for q in iter:\n",
        "  # do whatever \n",
        "else:\n",
        "  # do this at the end\n",
        "```\n",
        "\n",
        "\n",
        "Visit the [link](https://www.w3schools.com/python/python_for_loops.asp) to see some examples.\n",
        "\n"
      ]
    },
    {
      "cell_type": "markdown",
      "metadata": {
        "id": "cLbsK9v-jlyw"
      },
      "source": [
        "## While loop\n",
        "\n",
        "Sometimes, we want to repeat commands until a condition is satisfied. If we don’t know how many repetitions are required in advance, a while loop is preferable over a for loop. The general structure is\n",
        "\n",
        "\n",
        "```\n",
        "while <expression>:\n",
        "        <commands>\n",
        "```\n",
        "\n",
        "\n",
        "The commands inside the while loop will be repeated as long as the expression returns a value of True.\n",
        "\n",
        "While loop also accepts break and continue statements and the optional else.\n",
        "\n",
        "See some examples at [link](https://www.w3schools.com/python/python_while_loops.asp)\n",
        "\n",
        "\n",
        "An example follows:\n",
        "\n",
        "In the example, we halve a number until it is so small that the computer can’t detect it when added to 1; the last number before this occurs is called machine epsilon and we’ll talk about it more in class.\n",
        "\n"
      ]
    },
    {
      "cell_type": "code",
      "execution_count": null,
      "metadata": {
        "id": "On0ENiBXj7tq"
      },
      "outputs": [],
      "source": [
        "num = 0; myeps = 1;\n",
        "while 1+myeps > 1:\n",
        "    myeps = myeps/2\n",
        "    num += 1\n",
        "\n",
        "print(\"Iterations need:\", num)\n",
        "myeps = 2*myeps\n",
        "print(\"Value of epsilon:\", myeps)\n",
        "\n",
        "print(\"Epsilon calculated by the system:\", np.finfo(float).eps)"
      ]
    },
    {
      "cell_type": "markdown",
      "metadata": {
        "id": "TlzfFe9tkUte"
      },
      "source": [
        "The calculated variable $ϵ$ is known as machine precission, it depends of the data type and the bits used to allocate the variable in memory, but represents the minimum number that the machine is able to distinguish. We will talk more about it in the Lab1"
      ]
    },
    {
      "cell_type": "markdown",
      "metadata": {
        "id": "wkwoUhyKl8BX"
      },
      "source": [
        "## Plotting in python\n",
        "\n",
        "Observe the output of the next code box:\n"
      ]
    },
    {
      "cell_type": "code",
      "execution_count": null,
      "metadata": {
        "id": "ulpYISyYkT4j"
      },
      "outputs": [],
      "source": [
        "import matplotlib.pyplot as plt\n",
        "n = 11\n",
        "u = np.linspace(0,2*np.pi,n)\n",
        "v = np.cos(u)\n",
        "\n",
        "plt.plot(u,v)\n",
        "plt.show()"
      ]
    },
    {
      "cell_type": "markdown",
      "metadata": {
        "id": "MQQFZKHKn8Qg"
      },
      "source": [
        "📑 The last plot had a crude “curve” representing the cosine function; repeat the last example with n=101 to improve the curve"
      ]
    },
    {
      "cell_type": "code",
      "execution_count": null,
      "metadata": {
        "id": "-r12LA7AoZjC"
      },
      "outputs": [],
      "source": []
    },
    {
      "cell_type": "markdown",
      "metadata": {
        "id": "U28cfyRcoZ3l"
      },
      "source": [
        "📑 Add these commands to clean up the plot by adding axis labels and a title. The text inside the single quotes is a string which we intend to be the labels, etc.\n",
        "- plt.xlabel(’u’); \n",
        "- plt.ylabel(’v’); \n",
        "- plt.title(’v = cos(u)’);\n"
      ]
    },
    {
      "cell_type": "code",
      "execution_count": null,
      "metadata": {
        "id": "ALBPVf64pMv1"
      },
      "outputs": [],
      "source": []
    },
    {
      "cell_type": "markdown",
      "metadata": {
        "id": "ZUf5SgtGpM9o"
      },
      "source": [
        "The next box approximates the exponential function by :\n",
        "\n",
        "$$ f(x) = \\frac{1-\\frac{3}{5}x +\\frac{3}{20}x^2 -\\frac{1}{60}x^3}{1 + \\frac{2}{5}x + \\frac{1}{20}x^2}$$\n",
        "\n",
        "Observe what the legend function does:\n"
      ]
    },
    {
      "cell_type": "code",
      "execution_count": null,
      "metadata": {
        "id": "zysyrfphpy8e"
      },
      "outputs": [],
      "source": [
        "n= 150\n",
        "x = np.linspace(0,1,n)\n",
        "xsqd = x*x\n",
        "num = 1-(3/5)*x+(3/20)*xsqd -(x/60)*xsqd\n",
        "den = 1+(2/5)*x+(1/20)*xsqd\n",
        "y = num/den;\n",
        "\n",
        "plt.plot(x, y, label='Rational Function')\n",
        "plt.plot(x, np.exp(-x), label='e^{-x}')\n",
        "plt.xlabel('x')\n",
        "plt.ylabel('e^{-x}')\n",
        "plt.title('Rational function approximation to e^{-x}')\n",
        "plt.legend()\n",
        "plt.show()"
      ]
    }
  ],
  "metadata": {
    "colab": {
      "authorship_tag": "ABX9TyN9IJl7XUSvJ3paIiIYq1vw",
      "collapsed_sections": [],
      "include_colab_link": true,
      "private_outputs": true,
      "provenance": [],
      "toc_visible": true
    },
    "kernelspec": {
      "display_name": "Python 3.6.9 64-bit",
      "language": "python",
      "name": "python3"
    },
    "language_info": {
      "name": "python",
      "version": "3.6.9"
    },
    "vscode": {
      "interpreter": {
        "hash": "31f2aee4e71d21fbe5cf8b01ff0e069b9275f58929596ceb00d14d90e3e16cd6"
      }
    }
  },
  "nbformat": 4,
  "nbformat_minor": 0
}
